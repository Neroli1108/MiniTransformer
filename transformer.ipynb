{
 "cells": [
  {
   "cell_type": "code",
   "execution_count": null,
   "metadata": {},
   "outputs": [],
   "source": [
    "import torch\n",
    "import torch.nn as nn\n",
    "import torch.nn.functional as F\n",
    "import math"
   ]
  },
  {
   "cell_type": "code",
   "execution_count": null,
   "metadata": {},
   "outputs": [],
   "source": [
    "class Transformer(nn.Module):\n",
    "    def __init__(self, src_pad_idx, trg_pad_idx, enc_voc_size, dec_voc_size, d_model, n_heads, ffn_hidden, n_layers, drop_prob, device, max_len):\n",
    "        super(Transformer, self).__init__()\n",
    "        self.src_pad_idx = src_pad_idx\n",
    "        self.trg_pad_idx = trg_pad_idx\n",
    "        self.device = device\n",
    "        self.encoder = Encoder(enc_voc_size, max_len, d_model, ffn_hidden, n_heads, n_layers, device, drop_prob)\n",
    "        self.decoder = Decoder(dec_voc_size, max_len, d_model, ffn_hidden, n_heads, n_layers, drop_prob, device)\n",
    "        self.projection = nn.Linear(d_model, dec_voc_size)\n",
    "\n",
    "    def make_pad_mask(self, q, k, pad_idx):\n",
    "        len_q, len_k = q.size(1), k.size(1)\n",
    "        k = k.ne(pad_idx).unsqueeze(1).unsqueeze(2)\n",
    "        k = k.repeat(1, 1, len_q, 1)\n",
    "        q = q.ne(pad_idx).unsqueeze(1).unsqueeze(3)\n",
    "        q = q.repeat(1, 1, 1, len_k)\n",
    "        mask = k & q\n",
    "        return mask\n",
    "\n",
    "    def make_causal_mask(self, q):\n",
    "        batch_size, len_q = q.size()\n",
    "        mask = torch.tril(torch.ones(len_q, len_q)).expand(batch_size, 1, len_q, len_q)\n",
    "        return mask.to(self.device)\n",
    "\n",
    "    def forward(self, src, trg):\n",
    "        src_mask = self.make_pad_mask(src, src, self.src_pad_idx)\n",
    "        trg_mask = self.make_pad_mask(trg, trg, self.trg_pad_idx) & self.make_causal_mask(trg)\n",
    "        enc_output = self.encoder(src, src_mask)\n",
    "        dec_output = self.decoder(trg, enc_output, trg_mask, src_mask)\n",
    "        output = self.projection(dec_output)\n",
    "        return output"
   ]
  }
 ],
 "metadata": {
  "language_info": {
   "name": "python"
  }
 },
 "nbformat": 4,
 "nbformat_minor": 2
}
