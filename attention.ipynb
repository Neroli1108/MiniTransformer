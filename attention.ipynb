{
 "cells": [
  {
   "cell_type": "code",
   "execution_count": 2,
   "metadata": {},
   "outputs": [],
   "source": [
    "import torch \n",
    "import torch.nn as nn"
   ]
  },
  {
   "cell_type": "code",
   "execution_count": 3,
   "metadata": {},
   "outputs": [],
   "source": [
    "x = torch.rand(128, 32, 512)"
   ]
  },
  {
   "cell_type": "code",
   "execution_count": 4,
   "metadata": {},
   "outputs": [],
   "source": [
    "import torch\n",
    "import math\n",
    "class MutiHeadAttention(nn.Module):\n",
    "    def __init__(self, d_model, num_heads=8):\n",
    "        super(MutiHeadAttention, self).__init__()\n",
    "        self.num_heads = num_heads\n",
    "        self.d_model = d_model\n",
    "        self.w_q = nn.Linear(d_model, num_heads)\n",
    "        self.w_k = nn.Linear(d_model, num_heads)\n",
    "        self.w_v = nn.Linear(d_model, num_heads)\n",
    "        self.w_o = nn.Linear(d_model, num_heads)\n",
    "        self.softmax = nn.Softmax(dim=-1)\n",
    "\n",
    "    def forward(self, q, k, v, mask=None):\n",
    "        batch, time, dimension = q.shape\n",
    "        n_d = self.d_model // self.num_heads\n",
    "        q = self.w_q(q).view(batch, time, self.num_heads, n_d).permute(0, 2, 1, 3)\n",
    "        k = self.w_k(k).view(batch, time, self.num_heads, n_d).permute(0, 2, 1, 3)\n",
    "        v = self.w_v(v).view(batch, time, self.num_heads, n_d).permute(0, 2, 1, 3) \n",
    "        score = q@k.transpose(2, 3) / math.sqrt(n_d)\n",
    "        if mask is not None:\n",
    "            score = score.masked_fill(mask == 0, -1e9)\n",
    "        score = self.softmax(score)\n",
    "        score = score@v\n",
    "        score = score.permute(0, 2, 1, 3).contiguous().view(batch, time, dimension)\n",
    "        out = self.w_o(score)\n",
    "        return out \n"
   ]
  },
  {
   "cell_type": "code",
   "execution_count": null,
   "metadata": {},
   "outputs": [],
   "source": []
  }
 ],
 "metadata": {
  "kernelspec": {
   "display_name": "pytorch_gpu",
   "language": "python",
   "name": "python3"
  },
  "language_info": {
   "codemirror_mode": {
    "name": "ipython",
    "version": 3
   },
   "file_extension": ".py",
   "mimetype": "text/x-python",
   "name": "python",
   "nbconvert_exporter": "python",
   "pygments_lexer": "ipython3",
   "version": "3.12.4"
  }
 },
 "nbformat": 4,
 "nbformat_minor": 2
}
